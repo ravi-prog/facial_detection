{
 "cells": [
  {
   "cell_type": "code",
   "execution_count": 10,
   "metadata": {},
   "outputs": [],
   "source": [
    "import os\n",
    "import uuid\n",
    "import random\n",
    "import tensorflow as tf"
   ]
  },
  {
   "cell_type": "code",
   "execution_count": 11,
   "metadata": {},
   "outputs": [],
   "source": [
    "path=\"data\"\n",
    "face_path=\"gt_db\"\n",
    "persons=os.listdir(face_path)"
   ]
  },
  {
   "cell_type": "code",
   "execution_count": 12,
   "metadata": {},
   "outputs": [],
   "source": [
    "for person in persons:\n",
    "    images_names=os.listdir(os.path.join(face_path,person))\n",
    "    for image_name in images_names[:5]:\n",
    "        old_path=os.path.join(face_path,person,image_name)\n",
    "        new_path=os.path.join(path,\"images\",f\"{str(uuid.uuid1())}.jpg\")\n",
    "        os.replace(old_path,new_path)\n",
    "        "
   ]
  },
  {
   "cell_type": "code",
   "execution_count": 13,
   "metadata": {},
   "outputs": [
    {
     "data": {
      "text/plain": [
       "310"
      ]
     },
     "execution_count": 13,
     "metadata": {},
     "output_type": "execute_result"
    }
   ],
   "source": [
    "len(os.listdir(\"data/images\"))"
   ]
  },
  {
   "attachments": {},
   "cell_type": "markdown",
   "metadata": {},
   "source": [
    "# labeling the data"
   ]
  },
  {
   "cell_type": "code",
   "execution_count": 14,
   "metadata": {},
   "outputs": [],
   "source": [
    "!labelme"
   ]
  },
  {
   "cell_type": "code",
   "execution_count": 16,
   "metadata": {},
   "outputs": [],
   "source": [
    "img_path = os.path.join(\"data\", \"images\")\n",
    "images_list=os.listdir(img_path)"
   ]
  },
  {
   "cell_type": "code",
   "execution_count": 26,
   "metadata": {},
   "outputs": [],
   "source": [
    "images_list=os.listdir(img_path)\n",
    "random.shuffle(images_list)\n",
    "for idx,i in enumerate(images_list,1):\n",
    "    old_path=os.path.join(img_path,i)\n",
    "    if idx<=len(images_list)*70/100:\n",
    "        new_path=os.path.join(\"data\",\"train\",\"images\",i)\n",
    "        os.replace(old_path,new_path)\n",
    "    elif len(images_list)*70/100<idx<=len(images_list)*70/100+int(len(images_list)*15/100):\n",
    "        new_path=os.path.join(\"data\",\"test\",\"images\",i)\n",
    "        os.replace(old_path,new_path)\n",
    "    else:\n",
    "        new_path=os.path.join(\"data\",\"val\",\"images\",i)\n",
    "        os.replace(old_path,new_path)"
   ]
  },
  {
   "cell_type": "code",
   "execution_count": 27,
   "metadata": {},
   "outputs": [
    {
     "data": {
      "text/plain": [
       "263.5"
      ]
     },
     "execution_count": 27,
     "metadata": {},
     "output_type": "execute_result"
    }
   ],
   "source": []
  },
  {
   "cell_type": "code",
   "execution_count": null,
   "metadata": {},
   "outputs": [],
   "source": []
  }
 ],
 "metadata": {
  "kernelspec": {
   "display_name": "venv",
   "language": "python",
   "name": "python3"
  },
  "language_info": {
   "codemirror_mode": {
    "name": "ipython",
    "version": 3
   },
   "file_extension": ".py",
   "mimetype": "text/x-python",
   "name": "python",
   "nbconvert_exporter": "python",
   "pygments_lexer": "ipython3",
   "version": "3.10.2"
  },
  "orig_nbformat": 4
 },
 "nbformat": 4,
 "nbformat_minor": 2
}
